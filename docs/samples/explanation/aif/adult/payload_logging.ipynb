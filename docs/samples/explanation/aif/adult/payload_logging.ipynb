{
 "cells": [
  {
   "cell_type": "markdown",
   "metadata": {},
   "source": [
    "# Payload Logging in KFServing"
   ]
  },
  {
   "cell_type": "markdown",
   "metadata": {},
   "source": [
    "Deploy message-dumper which will persist the logs collected from the inferenceservice's requests and responses."
   ]
  },
  {
   "cell_type": "code",
   "execution_count": null,
   "metadata": {},
   "outputs": [],
   "source": [
    "import textwrap\n",
    "dumper_yaml = textwrap.dedent(\"\"\"\\\n",
    "apiVersion: serving.knative.dev/v1alpha1\n",
    "kind: Service\n",
    "metadata:\n",
    "  name: message-dumper\n",
    "spec:\n",
    "  template:\n",
    "    metadata:\n",
    "        annotations:\n",
    "          autoscaling.knative.dev/minScale: \"1\"\n",
    "    spec:\n",
    "      containers:\n",
    "      - image: gcr.io/knative-releases/knative.dev/eventing-contrib/cmd/event_display\n",
    "\"\"\")\n",
    "f = open(\"dumper.yaml\", \"w\")\n",
    "f.write(dumper_yaml)\n",
    "f.close()"
   ]
  },
  {
   "cell_type": "code",
   "execution_count": null,
   "metadata": {},
   "outputs": [],
   "source": [
    "!kubectl apply -f dumper.yaml"
   ]
  },
  {
   "cell_type": "markdown",
   "metadata": {},
   "source": [
    "Start the sklearn-iris inferenceservice"
   ]
  },
  {
   "cell_type": "code",
   "execution_count": null,
   "metadata": {},
   "outputs": [],
   "source": [
    "import textwrap\n",
    "sklearn_yaml = textwrap.dedent(\"\"\"\\\n",
    "apiVersion: \"serving.kubeflow.org/v1alpha2\"\n",
    "kind: \"InferenceService\"\n",
    "metadata:\n",
    "  name: \"sklearn-iris\"\n",
    "spec:\n",
    "  default:\n",
    "    predictor:\n",
    "      logger:\n",
    "          url: http://message-dumper.default/\n",
    "          mode: all\n",
    "      sklearn:\n",
    "        storageUri: \"gs://kfserving-samples/models/sklearn/iris\"\n",
    "\"\"\")\n",
    "f = open(\"sklearn.yaml\", \"w\")\n",
    "f.write(sklearn_yaml)\n",
    "f.close()"
   ]
  },
  {
   "cell_type": "code",
   "execution_count": null,
   "metadata": {},
   "outputs": [],
   "source": [
    "!kubectl apply -f sklearn.yaml"
   ]
  },
  {
   "cell_type": "markdown",
   "metadata": {},
   "source": [
    "Check that the sklearn server and message-dumper are ready."
   ]
  },
  {
   "cell_type": "code",
   "execution_count": null,
   "metadata": {},
   "outputs": [],
   "source": [
    "!kubectl get pod | grep message-dumper\n",
    "!kubectl get pod | grep sklearn-iris\n",
    "!kubectl get inferenceservice sklearn-iris"
   ]
  },
  {
   "cell_type": "markdown",
   "metadata": {},
   "source": [
    "Once the model and message-dumper are ready, we then can do model a prediction using a simple curl command."
   ]
  },
  {
   "cell_type": "code",
   "execution_count": null,
   "metadata": {},
   "outputs": [],
   "source": [
    "%%bash\n",
    "MODEL_NAME=sklearn-iris\n",
    "SERVICE_HOSTNAME=$(kubectl get inferenceservice sklearn-iris -o jsonpath='{.status.url}' | cut -d \"/\" -f 3)\n",
    "curl -v -H \"Host: ${SERVICE_HOSTNAME}\" http://$kubeflow_url/v1/models/$MODEL_NAME:predict -d '{\"instances\": [[6.8,  2.8,  4.8,  1.4],[6.0,  3.4,  4.5,  1.6]]}'"
   ]
  },
  {
   "cell_type": "markdown",
   "metadata": {},
   "source": [
    "Check for cloud-event logs in the message-dumper"
   ]
  },
  {
   "cell_type": "code",
   "execution_count": null,
   "metadata": {},
   "outputs": [],
   "source": [
    "res = !kubectl logs $(kubectl get pod -l serving.knative.dev/service=message-dumper -o jsonpath='{.items[0].metadata.name}') user-container"
   ]
  },
  {
   "cell_type": "markdown",
   "metadata": {},
   "source": [
    "Parse through the cloud-events logs to collect all of the requests and responses."
   ]
  },
  {
   "cell_type": "code",
   "execution_count": null,
   "metadata": {},
   "outputs": [],
   "source": [
    "def parse_events(stdout):\n",
    "    line_split = stdout.split('\\n')\n",
    "    line_iter = iter(line_split)\n",
    "\n",
    "    depth_stack = [] # A stack to describe what is currently being parsed\n",
    "    item_stack = []\n",
    "    cur_item = {\"key\": \"Data\", \"value\": {}}\n",
    "\n",
    "    events = []\n",
    "\n",
    "    while True:\n",
    "        try:\n",
    "            line = next(line_iter).strip()\n",
    "            if 'Data,' in line:\n",
    "                depth_stack.append(ParseItem.DATA)\n",
    "                item_stack.append(cur_item)\n",
    "            elif '{' in line:\n",
    "                depth_stack.append(ParseItem.OBJECT)\n",
    "                item_stack.append(cur_item)\n",
    "                if \"\\\"\" in line:\n",
    "                    key = line.split('\\\"')[1]\n",
    "                    cur_item = {\"key\": key, \"value\": {}}\n",
    "                else:\n",
    "                    cur_item = {\"value\": {}}\n",
    "            elif '}' in line:\n",
    "                if depth_stack.pop() != ParseItem.OBJECT:\n",
    "                    print(\"Parsing failed: invalid string\")\n",
    "                    sys.exit()\n",
    "                next_item = item_stack.pop()\n",
    "                if \"key\" in cur_item.keys():\n",
    "                    next_item[\"value\"][cur_item[\"key\"]] = cur_item[\"value\"]\n",
    "                    cur_item = next_item\n",
    "                else:\n",
    "                    try:\n",
    "                        next_item[\"value\"].append(cur_item[\"value\"])\n",
    "                        cur_item = next_item\n",
    "                    except: # Root case\n",
    "                        events.append(cur_item[\"value\"])\n",
    "\n",
    "                        depth_stack = []\n",
    "                        item_stack = []\n",
    "                        cur_item = {\"key\": \"Data\", \"value\": {}}\n",
    "            elif '[' in line:\n",
    "                depth_stack.append(ParseItem.LIST)\n",
    "                item_stack.append(cur_item)\n",
    "                if \"\\\"\" in line:\n",
    "                    key = line.split('\\\"')[1]\n",
    "                    cur_item = {\"key\": key, \"value\": []}\n",
    "                else:\n",
    "                    cur_item = {\"value\": []}\n",
    "            elif ']' in line:\n",
    "                #print_info(events, depth_stack, item_stack, cur_item)\n",
    "                if depth_stack.pop() != ParseItem.LIST:\n",
    "                    print(\"Parsing failed: invalid string\")\n",
    "                    sys.exit()\n",
    "                next_item = item_stack.pop()\n",
    "                if \"key\" in cur_item.keys():\n",
    "                    next_item[\"value\"][cur_item[\"key\"]] = cur_item[\"value\"]\n",
    "                    cur_item = next_item\n",
    "                else:\n",
    "                    try:\n",
    "                        next_item[\"value\"].append(cur_item[\"value\"])\n",
    "                        cur_item = next_item\n",
    "                    except:  # Root case\n",
    "                        events.append(cur_item[\"value\"])\n",
    "\n",
    "                        depth_stack = []\n",
    "                        item_stack = []\n",
    "                        cur_item = {\"key\": \"Data\", \"value\": {}}\n",
    "            elif len(depth_stack) > 0:\n",
    "                try:\n",
    "                    cur_item[\"value\"].append(line.replace(',', ''))\n",
    "                except:\n",
    "                    key = line.split('\\\"')[1]\n",
    "                    value = line[line.index(\":\") + 1: len(line) - 1]\n",
    "                    cur_item[\"value\"][key] = value\n",
    "        except:\n",
    "            for x in range(0, len(events)):\n",
    "                print(\"Event (\", x, \"):\", events[x])\n",
    "            return events\n",
    "events = parse_events(res)"
   ]
  },
  {
   "cell_type": "code",
   "execution_count": null,
   "metadata": {},
   "outputs": [],
   "source": [
    "## clean up the previous examples\n",
    "!kubectl delete -f sklearn.yaml\n",
    "!kubectl delete -f dumper.yaml"
   ]
  }
 ],
 "metadata": {
  "kernelspec": {
   "display_name": "Python 3.7.4 64-bit",
   "language": "python",
   "name": "python37464biteac3a92cf4cf48d3b00e9c4589083555"
  },
  "language_info": {
   "codemirror_mode": {
    "name": "ipython",
    "version": 3
   },
   "file_extension": ".py",
   "mimetype": "text/x-python",
   "name": "python",
   "nbconvert_exporter": "python",
   "pygments_lexer": "ipython3",
   "version": "3.7.7"
  }
 },
 "nbformat": 4,
 "nbformat_minor": 2
}
